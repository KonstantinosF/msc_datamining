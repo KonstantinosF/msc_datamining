{
 "cells": [
  {
   "cell_type": "code",
   "execution_count": 1,
   "metadata": {},
   "outputs": [],
   "source": [
    "# The Pearson’s chi-squared statistical hypothesis is an example of a test for independence between categorical variables.\n",
    "# This can be a problem of feature selection. (And thus help in dimensionality reduction)\n",
    "# In the case of classification problems where input variables are also categorical, we can use statistical tests \n",
    "# to determine whether the output variable is dependent or independent of the input variables. \n",
    "# If independent, then the input variable is a candidate for a feature that may be irrelevant to the problem \n",
    "# and removed from the dataset.\n",
    "\n",
    "# Main concepts:\n",
    "# Pairs of categorical variables can be summarized using a contingency table.\n",
    "# The chi-squared test can compare an observed contingency table to an expected table and determine if the categorical variables are independent.\n",
    "# How to calculate and interpret the chi-squared test for categorical variables in Python.\n",
    "\n",
    "# Example:\n",
    "#            fiction\t non-fiction \t Total\n",
    "# Male         250        50          300\n",
    "# Female       200       1000        1200\n",
    "# Total        450       1050        1500\n",
    "\n",
    "# Does an interest on fiction or non-fiction depend on gender, or are they independent?"
   ]
  },
  {
   "cell_type": "code",
   "execution_count": 2,
   "metadata": {},
   "outputs": [],
   "source": [
    "from scipy.stats import chi2_contingency\n",
    "from scipy.stats import chi2"
   ]
  },
  {
   "cell_type": "code",
   "execution_count": 3,
   "metadata": {},
   "outputs": [
    {
     "name": "stdout",
     "output_type": "stream",
     "text": [
      "[[250, 50], [200, 1000]]\n"
     ]
    }
   ],
   "source": [
    "# contingency table\n",
    "table = [\n",
    "    [250, 50],\n",
    "    [200, 1000]\n",
    "]\n",
    "print(table)"
   ]
  },
  {
   "cell_type": "code",
   "execution_count": 4,
   "metadata": {},
   "outputs": [
    {
     "name": "stdout",
     "output_type": "stream",
     "text": [
      "dof=1\n",
      "Expected frequencies:\n",
      "[[ 90. 210.]\n",
      " [360. 840.]]\n"
     ]
    }
   ],
   "source": [
    "# degrees of freedom: \n",
    "# (rows - 1) * (cols - 1)\n",
    "\n",
    "# Expected frequencies:\n",
    "# e_ij = (count(A=a_i) x count(B=b_j)) / n\n",
    "# example: (male, fiction) = (300x450 / 1500) = 90\n",
    "\n",
    "# Input: an array representing the contingency table for the two categorical variables. \n",
    "# Returns: the calculated statistic and p-value for interpretation, \n",
    "#          calculated degrees of freedom, and the table of expected frequencies.\n",
    "stat, p, dof, expected = chi2_contingency(table)\n",
    "print('dof=%d' % dof)\n",
    "print('Expected frequencies:')\n",
    "print(expected)"
   ]
  },
  {
   "cell_type": "code",
   "execution_count": 5,
   "metadata": {},
   "outputs": [
    {
     "name": "stdout",
     "output_type": "stream",
     "text": [
      "probability=0.999, critical=10.828, stat=504.767\n",
      "Dependent (reject H0)\n"
     ]
    }
   ],
   "source": [
    "# interpret test-statistic\n",
    "prob = 0.999\n",
    "critical = chi2.ppf(prob, dof)\n",
    "print('probability=%.3f, critical=%.3f, stat=%.3f' % (prob, critical, stat))\n",
    "if abs(stat) >= critical:\n",
    "    print('Dependent (reject H0)')\n",
    "else:\n",
    "    print('Independent (fail to reject H0)')"
   ]
  },
  {
   "cell_type": "code",
   "execution_count": 6,
   "metadata": {},
   "outputs": [
    {
     "name": "stdout",
     "output_type": "stream",
     "text": [
      "significance=0.001, p=0.000\n",
      "Dependent (reject H0)\n"
     ]
    }
   ],
   "source": [
    "# Note: \n",
    "# For 1 degree of freedom, the x^2 value needed to reject the hypothesis at the 0.001 significance level is 10.828 \n",
    "# (taken from the table of upper percentage points of the x^2 distribution, typically available from any textbook on statistics). \n",
    "# Since our computed value is above this, we can reject the hypothesis that gender and preferred reading are independent \n",
    "# and conclude that the two attributes are (strongly) correlated for the given group of people.\n",
    "\n",
    "# interpret p-value\n",
    "# In terms of a p-value and a chosen significance level (alpha), the test can be interpreted as follows:\n",
    "# If p-value <= alpha: significant result, reject null hypothesis (H0), dependent.\n",
    "# If p-value > alpha: not significant result, fail to reject null hypothesis (H0), independent\n",
    "\n",
    "alpha = 1.0 - prob\n",
    "print('significance=%.3f, p=%.3f' % (alpha, p))\n",
    "if p <= alpha:\n",
    "    print('Dependent (reject H0)')\n",
    "else:\n",
    "    print('Independent (fail to reject H0)')"
   ]
  },
  {
   "cell_type": "code",
   "execution_count": null,
   "metadata": {},
   "outputs": [],
   "source": []
  }
 ],
 "metadata": {
  "kernelspec": {
   "display_name": "Python 3",
   "language": "python",
   "name": "python3"
  },
  "language_info": {
   "codemirror_mode": {
    "name": "ipython",
    "version": 3
   },
   "file_extension": ".py",
   "mimetype": "text/x-python",
   "name": "python",
   "nbconvert_exporter": "python",
   "pygments_lexer": "ipython3",
   "version": "3.7.3"
  }
 },
 "nbformat": 4,
 "nbformat_minor": 2
}
